{
  "nbformat": 4,
  "nbformat_minor": 0,
  "metadata": {
    "colab": {
      "provenance": [],
      "authorship_tag": "ABX9TyOQSyQv5ig0v+jp1Q167yQs",
      "include_colab_link": true
    },
    "kernelspec": {
      "name": "python3",
      "display_name": "Python 3"
    },
    "language_info": {
      "name": "python"
    }
  },
  "cells": [
    {
      "cell_type": "markdown",
      "metadata": {
        "id": "view-in-github",
        "colab_type": "text"
      },
      "source": [
        "<a href=\"https://colab.research.google.com/github/rajisowji/flowers/blob/master/DataScienceEcosystem.ipynb\" target=\"_parent\"><img src=\"https://colab.research.google.com/assets/colab-badge.svg\" alt=\"Open In Colab\"/></a>"
      ]
    },
    {
      "cell_type": "markdown",
      "source": [
        "# Data Science Tools and Ecosystem\n"
      ],
      "metadata": {
        "id": "0oIpQ04KYFmf"
      }
    },
    {
      "cell_type": "markdown",
      "source": [
        "## Introduction\n",
        "\n",
        "In this notebook, we will explore various tools and components that make up the data science ecosystem.  \n",
        "We will cover common libraries, environments, and frameworks used by data scientists for data analysis, machine learning, and data visualization.  \n",
        "The goal is to provide a comprehensive overview of the technologies that support data-driven decision making.\n"
      ],
      "metadata": {
        "id": "nynyZtpSZiwe"
      }
    },
    {
      "cell_type": "markdown",
      "source": [
        "**Objectives:**\n",
        "\n",
        "- List popular languages for Data Science  \n",
        "- Identify commonly used data science libraries  \n",
        "- Understand various data science tools and platforms  \n",
        "- Explore examples of arithmetic expressions in Python  \n",
        "- Perform simple unit conversions like minutes to hours  "
      ],
      "metadata": {
        "id": "_bkA2-9PdB_y"
      }
    },
    {
      "cell_type": "markdown",
      "source": [
        "## Author\n",
        "\n",
        "Coursera- Tools for Datascience\n"
      ],
      "metadata": {
        "id": "sskFjmv2dzSJ"
      }
    },
    {
      "cell_type": "markdown",
      "source": [
        "## Popular Languages for Data Science\n",
        "\n",
        "Some of the most commonly used languages in the field of data science include:\n",
        "\n",
        "- Python\n",
        "- R\n",
        "- SQL\n",
        "- Julia\n",
        "- Scala"
      ],
      "metadata": {
        "id": "vjsApxatZ4xt"
      }
    },
    {
      "cell_type": "code",
      "source": [],
      "metadata": {
        "id": "NqjrLjgYZ6UV"
      },
      "execution_count": null,
      "outputs": []
    },
    {
      "cell_type": "markdown",
      "source": [
        "## Commonly Used Data Science Libraries\n",
        "\n",
        "Data scientists rely on a variety of libraries to perform data manipulation, analysis, visualization, and machine learning. Some of the most widely used libraries include:\n",
        "\n",
        "- **Pandas** – for data manipulation and analysis  \n",
        "- **NumPy** – for numerical computing  \n",
        "- **Matplotlib** – for data visualization  \n",
        "- **Seaborn** – for statistical data visualization  \n",
        "- **Scikit-learn** – for machine learning  \n",
        "- **TensorFlow** – for deep learning  \n",
        "- **Keras** – for building neural networks  \n",
        "- **PyTorch** – for machine learning and deep learning"
      ],
      "metadata": {
        "id": "XM8a_853amgF"
      }
    },
    {
      "cell_type": "code",
      "source": [],
      "metadata": {
        "id": "peKDNNKhaon9"
      },
      "execution_count": null,
      "outputs": []
    },
    {
      "cell_type": "markdown",
      "source": [
        "## Table of Data Science Tools\n",
        "\n",
        "| Category            | Tool/Platform        | Description                                  |\n",
        "|---------------------|----------------------|----------------------------------------------|\n",
        "| IDE/Notebook        | Jupyter Notebook     | Web-based interactive computing environment  |\n",
        "| IDE/Notebook        | RStudio              | IDE for R and Python                         |\n",
        "| Big Data Framework  | Apache Spark         | Distributed data processing engine           |\n",
        "| Machine Learning    | TensorFlow           | Deep learning framework by Google            |\n",
        "| Machine Learning    | Scikit-learn         | Library for classical machine learning       |\n",
        "| Deep Learning       | PyTorch              | Deep learning framework by Meta              |\n",
        "| Visualization       | Tableau              | Data visualization and business intelligence |\n",
        "| Data Integration    | Apache Airflow       | Workflow automation and scheduling tool      |"
      ],
      "metadata": {
        "id": "bmGbFXCzbCql"
      }
    },
    {
      "cell_type": "code",
      "source": [],
      "metadata": {
        "id": "-9mgkeo9bFq3"
      },
      "execution_count": null,
      "outputs": []
    },
    {
      "cell_type": "markdown",
      "source": [
        "## Examples of Evaluating Arithmetic Expressions\n",
        "print(\"Addition: 5 + 3 =\", 5 + 3)\n",
        "print(\"Subtraction: 10 - 4 =\", 10 - 4)\n",
        "print(\"Multiplication: 6 * 7 =\", 6 * 7)\n",
        "print(\"Division: 20 / 5 =\", 20 / 5)"
      ],
      "metadata": {
        "id": "GcZVczYFbY_C"
      }
    },
    {
      "cell_type": "code",
      "source": [
        " print(\"Division: 20 / 5 =\", 20 / 5)"
      ],
      "metadata": {
        "colab": {
          "base_uri": "https://localhost:8080/"
        },
        "id": "_pRJXyMDbnNk",
        "outputId": "51bb99e0-532f-462a-a390-3d4a8aa683aa"
      },
      "execution_count": 8,
      "outputs": [
        {
          "output_type": "stream",
          "name": "stdout",
          "text": [
            "Division: 20 / 5 = 4.0\n"
          ]
        }
      ]
    },
    {
      "cell_type": "code",
      "source": [
        " print(\"Multiplication: 6 * 7 =\", 6 * 7)"
      ],
      "metadata": {
        "colab": {
          "base_uri": "https://localhost:8080/"
        },
        "id": "Vf-uJH7nbk5d",
        "outputId": "aad44d0e-b499-44c4-dd84-4cfb33a6eac1"
      },
      "execution_count": 7,
      "outputs": [
        {
          "output_type": "stream",
          "name": "stdout",
          "text": [
            "Multiplication: 6 * 7 = 42\n"
          ]
        }
      ]
    },
    {
      "cell_type": "code",
      "source": [
        "print(\"Subtraction: 10 - 4 =\", 10 - 4)"
      ],
      "metadata": {
        "colab": {
          "base_uri": "https://localhost:8080/"
        },
        "id": "GHdgb5Lsbh8x",
        "outputId": "4911409a-3106-4799-ea71-f46b08556eed"
      },
      "execution_count": 6,
      "outputs": [
        {
          "output_type": "stream",
          "name": "stdout",
          "text": [
            "Subtraction: 10 - 4 = 6\n"
          ]
        }
      ]
    },
    {
      "cell_type": "code",
      "source": [
        "print(\"Addition: 5 + 3 =\", 5 + 3)"
      ],
      "metadata": {
        "colab": {
          "base_uri": "https://localhost:8080/"
        },
        "id": "wh97ZABtbdli",
        "outputId": "dd6eada5-d427-47a0-95bc-aacec90169cb"
      },
      "execution_count": 5,
      "outputs": [
        {
          "output_type": "stream",
          "name": "stdout",
          "text": [
            "Addition: 5 + 3 = 8\n"
          ]
        }
      ]
    },
    {
      "cell_type": "code",
      "source": [
        "print((3*4)+5)"
      ],
      "metadata": {
        "colab": {
          "base_uri": "https://localhost:8080/"
        },
        "id": "ooWt0stub60P",
        "outputId": "838dbae3-dba1-427d-e10e-8e1833d8a09b"
      },
      "execution_count": 9,
      "outputs": [
        {
          "output_type": "stream",
          "name": "stdout",
          "text": [
            "17\n"
          ]
        }
      ]
    },
    {
      "cell_type": "code",
      "source": [
        "minutes = 200\n",
        "hours = minutes / 60\n",
        "\n",
        "print(f\"{minutes} minutes is equal to {hours} hours.\")"
      ],
      "metadata": {
        "colab": {
          "base_uri": "https://localhost:8080/"
        },
        "id": "kBYFUkR1cgpw",
        "outputId": "af994dfe-615c-43b9-f118-ac60fba292c1"
      },
      "execution_count": 10,
      "outputs": [
        {
          "output_type": "stream",
          "name": "stdout",
          "text": [
            "200 minutes is equal to 3.3333333333333335 hours.\n"
          ]
        }
      ]
    }
  ]
}